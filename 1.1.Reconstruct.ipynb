{
 "cells": [
  {
   "cell_type": "code",
   "execution_count": null,
   "metadata": {
    "ExecuteTime": {
     "end_time": "2023-01-23T02:32:11.189506Z",
     "start_time": "2023-01-23T02:32:10.314605Z"
    }
   },
   "outputs": [],
   "source": [
    "import glob\n",
    "import numpy\n",
    "import pandas\n",
    "import seaborn\n",
    "import matplotlib.pyplot as plt\n",
    "from tqdm import tqdm\n",
    "import multiprocessing as mp\n",
    "import os\n",
    "from build import build_model"
   ]
  },
  {
   "cell_type": "code",
   "execution_count": null,
   "metadata": {
    "ExecuteTime": {
     "end_time": "2023-01-23T02:32:11.205572Z",
     "start_time": "2023-01-23T02:32:11.190971Z"
    }
   },
   "outputs": [],
   "source": [
    "from IPython.display import display, HTML, Math, Markdown\n",
    "display(HTML(\"<style>.container { width:95% !important; }</style>\"))\n",
    "\n",
    "%load_ext autoreload\n",
    "%autoreload 2"
   ]
  },
  {
   "cell_type": "code",
   "execution_count": null,
   "metadata": {
    "scrolled": true
   },
   "outputs": [],
   "source": [
    "# !bash report.sh\n",
    "step1 = set(pandas.read_csv(\"step1.txt\",index_col=0,header=None).index.to_list())\n",
    "step2 = set(pandas.read_csv(\"step2.txt\",index_col=0,header=None).index.to_list())\n",
    "step3 = set(pandas.read_csv(\"step3.txt\",index_col=0,header=None).index.to_list())\n",
    "no_overlap = set(pandas.read_csv(\"no_overlap.txt\",index_col=0,header=None).index.to_list())\n",
    "# trna_issues = set(pandas.read_csv(\"trna_issues.txt\",index_col=0,header=None).index.to_list())\n",
    "# rna_polymerase_issues = set(pandas.read_csv(\"rna_polymerase_issues.txt\",index_col=0,header=None).index.to_list())\n",
    "zinc_in_polymerase = set(pandas.read_csv(\"zinc_in_polymerase.txt\",index_col=0,header=None).index.to_list())\n",
    "zinc_issues = set(pandas.read_csv(\"zinc_issues.txt\",index_col=0,header=None).index.to_list())\n",
    "# trna_ts_issues = set(pandas.read_csv(\"trna_ts_issues.txt\",index_col=0,header=None).index.to_list())"
   ]
  },
  {
   "cell_type": "code",
   "execution_count": null,
   "metadata": {},
   "outputs": [],
   "source": [
    "organisms = {i.split(\".gb\")[0] for i in os.listdir(\"./agora-models/genbank-mixed-ncbi-agora-sources/\")}\n",
    "len(organisms)"
   ]
  },
  {
   "cell_type": "code",
   "execution_count": null,
   "metadata": {},
   "outputs": [],
   "source": [
    "def run(org):\n",
    "    build_model([\"\",org,\"-bbh\",\"0\",\"-g\",\"1\",\"-b\",\"1\",\"-ts\",\"1\"])"
   ]
  },
  {
   "cell_type": "code",
   "execution_count": null,
   "metadata": {
    "scrolled": true,
    "tags": []
   },
   "outputs": [],
   "source": [
    "NP = min([10,len(run_for)])\n",
    "pool = mp.Pool(NP,maxtasksperchild=1)\n",
    "pbar = tqdm(total=len(run_for),position=0,leave=True)\n",
    "pbar.set_description('Building ({} threads)'.format(NP))\n",
    "def collect_result(result):\n",
    "    pbar.update(1)\n",
    "\n",
    "for org in run_for:\n",
    "    args = ([org])\n",
    "    pool.apply_async(run,args, callback=collect_result)\n",
    "pool.close()\n",
    "pool.join()"
   ]
  },
  {
   "cell_type": "code",
   "execution_count": null,
   "metadata": {},
   "outputs": [],
   "source": []
  }
 ],
 "metadata": {
  "kernelspec": {
   "display_name": "coralme",
   "language": "python",
   "name": "coralme"
  },
  "language_info": {
   "codemirror_mode": {
    "name": "ipython",
    "version": 3
   },
   "file_extension": ".py",
   "mimetype": "text/x-python",
   "name": "python",
   "nbconvert_exporter": "python",
   "pygments_lexer": "ipython3",
   "version": "3.10.12"
  }
 },
 "nbformat": 4,
 "nbformat_minor": 4
}
