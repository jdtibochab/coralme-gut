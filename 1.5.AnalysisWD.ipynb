{
 "cells": [
  {
   "cell_type": "code",
   "execution_count": null,
   "metadata": {
    "ExecuteTime": {
     "end_time": "2023-01-23T02:32:11.189506Z",
     "start_time": "2023-01-23T02:32:10.314605Z"
    }
   },
   "outputs": [],
   "source": [
    "import glob\n",
    "import numpy\n",
    "import pandas\n",
    "import seaborn\n",
    "import matplotlib.pyplot as plt\n",
    "from tqdm import tqdm\n",
    "import multiprocessing as mp\n",
    "import os\n",
    "from build import build_model\n",
    "from diets import load_model\n",
    "import coralme\n",
    "pandas.set_option('display.max_colwidth', None)"
   ]
  },
  {
   "cell_type": "code",
   "execution_count": null,
   "metadata": {
    "ExecuteTime": {
     "end_time": "2023-01-23T02:32:11.205572Z",
     "start_time": "2023-01-23T02:32:11.190971Z"
    },
    "scrolled": true
   },
   "outputs": [],
   "source": [
    "from IPython.display import display, HTML, Math, Markdown\n",
    "display(HTML(\"<style>.container { width:95% !important; }</style>\"))\n",
    "\n",
    "%load_ext autoreload\n",
    "%autoreload 2"
   ]
  },
  {
   "cell_type": "markdown",
   "metadata": {},
   "source": [
    "### Set organisms"
   ]
  },
  {
   "cell_type": "code",
   "execution_count": null,
   "metadata": {},
   "outputs": [],
   "source": [
    "# !bash report.sh\n",
    "organisms = set(pandas.read_csv(\"survivors.txt\",index_col=0,header=None).index.to_list())\n",
    "# done = set(pandas.read_csv(\"biomass_constrained.txt\",index_col=0,header=None).index.to_list())\n",
    "done = set(i.split(\".csv\")[0] for i in os.listdir(\"./fluxes_reconstruction/me/\") if \"checkpoint\" not in i)"
   ]
  },
  {
   "cell_type": "code",
   "execution_count": null,
   "metadata": {},
   "outputs": [],
   "source": [
    "run_for = list(done)\n",
    "len(run_for)"
   ]
  },
  {
   "cell_type": "markdown",
   "metadata": {},
   "source": [
    "### Load"
   ]
  },
  {
   "cell_type": "code",
   "execution_count": null,
   "metadata": {},
   "outputs": [],
   "source": [
    "from tqdm import tqdm\n",
    "conditions = [\"base\"]\n",
    "def load_data(path,org):\n",
    "    try:\n",
    "        df = pandas.read_csv(path,index_col=0)[[\"fluxes\"]]\n",
    "    except:\n",
    "        df = pandas.DataFrame(columns=[\"fluxes\"])\n",
    "    df.columns = [org]\n",
    "    return df\n",
    "\n",
    "def load_growth(folder):\n",
    "    growth = {i:{} for i in conditions}\n",
    "    for org in tqdm(organisms):\n",
    "        for c in conditions:\n",
    "            tmp = load_data(\"./{}/fluxes/{}/{}.csv\".format(folder,c,org),org)\n",
    "            if tmp.empty:\n",
    "                val = 0\n",
    "            else:\n",
    "                val = tmp[org][\"biomass_dilution\"]\n",
    "            growth[c][org] = val\n",
    "    return pandas.DataFrame.from_dict(growth)"
   ]
  },
  {
   "cell_type": "code",
   "execution_count": null,
   "metadata": {},
   "outputs": [],
   "source": [
    "HFD = load_growth(\"cases-HFD\")"
   ]
  },
  {
   "cell_type": "code",
   "execution_count": null,
   "metadata": {},
   "outputs": [],
   "source": [
    "WD = load_growth(\"cases\")"
   ]
  },
  {
   "cell_type": "code",
   "execution_count": null,
   "metadata": {},
   "outputs": [],
   "source": [
    "df = WD.join(HFD,lsuffix=\"WD\",rsuffix=\"HFD\")"
   ]
  },
  {
   "cell_type": "code",
   "execution_count": null,
   "metadata": {},
   "outputs": [],
   "source": [
    "df.sort_values(\"baseHFD\")"
   ]
  },
  {
   "cell_type": "markdown",
   "metadata": {},
   "source": [
    "### Classify"
   ]
  },
  {
   "cell_type": "code",
   "execution_count": null,
   "metadata": {},
   "outputs": [],
   "source": [
    "growth = df[[\"baseWD\"]]\n",
    "growth.columns = [\"base\"]\n",
    "growth = growth[growth[\"base\"]>0]"
   ]
  },
  {
   "cell_type": "code",
   "execution_count": null,
   "metadata": {},
   "outputs": [],
   "source": [
    "taxonomy = pandas.read_csv(\"./taxonomy.txt\",index_col=0,sep='\\t')\n",
    "taxa = \"Phylum\""
   ]
  },
  {
   "cell_type": "code",
   "execution_count": null,
   "metadata": {},
   "outputs": [],
   "source": [
    "growth[\"taxa\"] = taxonomy[taxa]\n",
    "mean = growth.groupby(\"taxa\").mean().sort_values(\"base\").fillna(0.)\n",
    "std = growth.groupby(\"taxa\").std().sort_values(\"base\").fillna(0.)\n",
    "\n",
    "fig,ax = plt.subplots(1,1)\n",
    "mean.plot.bar(ax=ax)\n",
    "ax.errorbar(x=mean.index,y=mean[\"base\"][mean.index],yerr=std[\"base\"][mean.index],color='k')"
   ]
  },
  {
   "cell_type": "code",
   "execution_count": null,
   "metadata": {},
   "outputs": [],
   "source": [
    "wd = mean"
   ]
  },
  {
   "cell_type": "markdown",
   "metadata": {},
   "source": [
    "### Classify"
   ]
  },
  {
   "cell_type": "code",
   "execution_count": null,
   "metadata": {},
   "outputs": [],
   "source": [
    "growth = df[[\"baseHFD\"]]\n",
    "growth.columns = [\"base\"]\n",
    "growth = growth[growth[\"base\"]>0]"
   ]
  },
  {
   "cell_type": "code",
   "execution_count": null,
   "metadata": {},
   "outputs": [],
   "source": [
    "taxonomy = pandas.read_csv(\"./taxonomy.txt\",index_col=0,sep='\\t')\n",
    "taxa = \"Phylum\""
   ]
  },
  {
   "cell_type": "code",
   "execution_count": null,
   "metadata": {},
   "outputs": [],
   "source": [
    "growth[\"taxa\"] = taxonomy[taxa]\n",
    "mean = growth.groupby(\"taxa\").mean().sort_values(\"base\").fillna(0.)\n",
    "std = growth.groupby(\"taxa\").std().sort_values(\"base\").fillna(0.)\n",
    "\n",
    "fig,ax = plt.subplots(1,1)\n",
    "mean.plot.bar(ax=ax)\n",
    "ax.errorbar(x=mean.index,y=mean[\"base\"][mean.index],yerr=std[\"base\"][mean.index],color='k')"
   ]
  },
  {
   "cell_type": "code",
   "execution_count": null,
   "metadata": {},
   "outputs": [],
   "source": [
    "hfd = mean"
   ]
  },
  {
   "cell_type": "code",
   "execution_count": null,
   "metadata": {},
   "outputs": [],
   "source": [
    "tmp = pandas.concat([wd.rename(columns={\"base\":\"WD\"}),hfd.rename(columns={\"base\":\"HFD\"})],axis=1)"
   ]
  },
  {
   "cell_type": "code",
   "execution_count": null,
   "metadata": {},
   "outputs": [],
   "source": [
    "tmp.plot.bar()"
   ]
  },
  {
   "cell_type": "code",
   "execution_count": null,
   "metadata": {},
   "outputs": [],
   "source": []
  }
 ],
 "metadata": {
  "kernelspec": {
   "display_name": "coralme",
   "language": "python",
   "name": "coralme"
  },
  "language_info": {
   "codemirror_mode": {
    "name": "ipython",
    "version": 3
   },
   "file_extension": ".py",
   "mimetype": "text/x-python",
   "name": "python",
   "nbconvert_exporter": "python",
   "pygments_lexer": "ipython3",
   "version": "3.10.12"
  }
 },
 "nbformat": 4,
 "nbformat_minor": 4
}
