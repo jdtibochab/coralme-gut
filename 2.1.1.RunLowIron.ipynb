{
 "cells": [
  {
   "cell_type": "code",
   "execution_count": 2,
   "metadata": {
    "ExecuteTime": {
     "end_time": "2023-01-23T02:32:11.189506Z",
     "start_time": "2023-01-23T02:32:10.314605Z"
    }
   },
   "outputs": [],
   "source": [
    "import glob\n",
    "import numpy\n",
    "import pandas\n",
    "import seaborn\n",
    "import matplotlib.pyplot as plt\n",
    "from tqdm import tqdm\n",
    "import multiprocessing as mp\n",
    "import os\n",
    "from build import build_model"
   ]
  },
  {
   "cell_type": "code",
   "execution_count": 3,
   "metadata": {
    "ExecuteTime": {
     "end_time": "2023-01-23T02:32:11.205572Z",
     "start_time": "2023-01-23T02:32:11.190971Z"
    }
   },
   "outputs": [
    {
     "data": {
      "text/html": [
       "<style>.container { width:95% !important; }</style>"
      ],
      "text/plain": [
       "<IPython.core.display.HTML object>"
      ]
     },
     "metadata": {},
     "output_type": "display_data"
    }
   ],
   "source": [
    "from IPython.display import display, HTML, Math, Markdown\n",
    "display(HTML(\"<style>.container { width:95% !important; }</style>\"))\n",
    "\n",
    "%load_ext autoreload\n",
    "%autoreload 2"
   ]
  },
  {
   "cell_type": "code",
   "execution_count": 4,
   "metadata": {
    "scrolled": true
   },
   "outputs": [],
   "source": [
    "# !bash report.sh\n",
    "organisms = set(pandas.read_csv(\"biomass_constrained.txt\",index_col=0,header=None).index.to_list())\n",
    "done = {i.split(\".csv\")[0] for i in os.listdir(\"./cases/fluxes/low_iron/\")}"
   ]
  },
  {
   "cell_type": "code",
   "execution_count": 5,
   "metadata": {},
   "outputs": [
    {
     "data": {
      "text/plain": [
       "495"
      ]
     },
     "execution_count": 5,
     "metadata": {},
     "output_type": "execute_result"
    }
   ],
   "source": [
    "run_for = organisms\n",
    "len(run_for)"
   ]
  },
  {
   "cell_type": "code",
   "execution_count": 5,
   "metadata": {},
   "outputs": [],
   "source": [
    "from diets import load_model,constrain_exchanges,get_bounds\n",
    "from overflow import get_overflow\n",
    "import coralme\n",
    "\n",
    "conditions = [\"low\"]\n",
    "exchanges = [\"EX_fe2(e)\",\"EX_fe3(e)\",\"TS_2fe2s_c\",\"TS_4fe4s_c\",\"TS_fe3_c\"]\n",
    "metabolite = \"iron\"\n",
    "\n",
    "for c in conditions:\n",
    "    name = \"{}_{}\".format(c,metabolite)\n",
    "    fluxdir = \"./cases/fluxes/{}\".format(name)\n",
    "    overflowdir = \"./cases/overflow/{}\".format(name)\n",
    "    if not os.path.isdir(fluxdir):\n",
    "        os.makedirs(fluxdir)\n",
    "        os.makedirs(overflowdir)\n",
    "\n",
    "def run(org):\n",
    "    model = coralme.io.pickle.load_pickle_me_model(\"./me-models/{}/MEModel-BIO-{}-ME-TS.pkl\".format(org,org))\n",
    "    get_overflow(model).to_csv(\"./cases/overflow/base/{}.csv\".format(org))\n",
    "    sol0 = model.solution\n",
    "    df0 = sol0.to_frame()\n",
    "    # Exchanges\n",
    "    rlist = [r for r in exchanges if r in model.reactions]\n",
    "    # Run for all conditions\n",
    "    for c in conditions:\n",
    "        name = \"{}_{}\".format(c,metabolite)\n",
    "        dct = get_bounds(sol0,rlist,multiplier=0.01)\n",
    "        constrain_exchanges(model,dct)\n",
    "        model.optimize(max_mu = model.solution.objective_value * 2)\n",
    "        model.solution.to_frame().to_csv(\"./cases/fluxes/{}/{}.csv\".format(name,org))\n",
    "        get_overflow(model).to_csv(\"./cases/overflow/{}/{}.csv\".format(name,org))\n",
    "        "
   ]
  },
  {
   "cell_type": "code",
   "execution_count": 6,
   "metadata": {
    "scrolled": true
   },
   "outputs": [
    {
     "name": "stderr",
     "output_type": "stream",
     "text": [
      "Building (2 threads):   0%|                               | 0/2 [00:00<?, ?it/s]"
     ]
    },
    {
     "name": "stdout",
     "output_type": "stream",
     "text": [
      "Set parameter Username\n",
      "Academic license - for non-commercial use only - expires 2024-08-16\n",
      "Read LP format model from file /tmp/tmpk9tucq13.lp\n",
      "Reading time = 0.00 seconds\n",
      ": 0 rows, 0 columns, 0 nonzeros\n",
      "Read LP format model from file /tmp/tmpyswjazwj.lp\n",
      "Reading time = 0.00 seconds\n",
      ": 832 rows, 1788 columns, 7876 nonzeros\n",
      "Read LP format model from file /tmp/tmpcu5gxy0o.lp\n",
      "Reading time = 0.00 seconds\n",
      ": 854 rows, 1786 columns, 7706 nonzeros\n",
      "Set parameter Username\n",
      "Academic license - for non-commercial use only - expires 2024-08-16\n",
      "Read LP format model from file /tmp/tmphzf4han6.lp\n",
      "Reading time = 0.00 seconds\n",
      ": 0 rows, 0 columns, 0 nonzeros\n",
      "Iteration\t Solution to check\tSolver Status\n",
      "---------\t------------------\t-------------\n",
      "Read LP format model from file /tmp/tmpd_q3yjob.lp\n",
      "Reading time = 0.00 seconds\n",
      ": 1301 rows, 3132 columns, 13778 nonzeros\n",
      "Read LP format model from file /tmp/tmp_6p0hnvj.lp\n",
      "Reading time = 0.00 seconds\n",
      ": 1316 rows, 3130 columns, 13608 nonzeros\n",
      "        1\t0.0044593176008627\tNot feasible\n",
      "        2\t0.0022296588004314\tNot feasible\n",
      "Iteration\t Solution to check\tSolver Status\n",
      "---------\t------------------\t-------------\n",
      "        3\t0.0011148294002157\tNot feasible\n",
      "        4\t0.0005574147001078\tNot feasible\n",
      "        5\t0.0002787073500539\tNot feasible\n",
      "        6\t0.0001393536750270\tNot feasible\n",
      "        1\t0.0102907329250678\tNot feasible\n",
      "        7\t0.0000696768375135\tNot feasible\n",
      "        8\t0.0000348384187567\tNot feasible\n",
      "        9\t0.0000174192093784\tNot feasible\n",
      "        2\t0.0051453664625339\tNot feasible\n",
      "       10\t0.0000087096046892\tNot feasible\n",
      "       11\t0.0000043548023446\tNot feasible\n",
      "       12\t0.0000021774011723\tNot feasible\n",
      "        3\t0.0025726832312670\tNot feasible\n",
      "       13\t0.0000010887005861\tNot feasible\n",
      "        4\t0.0012863416156335\tNot feasible\n",
      "       14\t0.0000005443502931\tNot feasible\n",
      "        5\t0.0006431708078167\tNot feasible\n",
      "        6\t0.0003215854039084\tNot feasible\n",
      "        7\t0.0001607927019542\tNot feasible\n",
      "        8\t0.0000803963509771\tNot feasible\n",
      "        9\t0.0000401981754885\tNot feasible\n",
      "       10\t0.0000200990877443\tNot feasible\n",
      "       11\t0.0000100495438721\tNot feasible\n",
      "       12\t0.0000050247719361\tNot feasible\n",
      "       13\t0.0000025123859680\tNot feasible\n",
      "       14\t0.0000012561929840\tNot feasible\n",
      "       15\t0.0000006280964920\tNot feasible\n"
     ]
    }
   ],
   "source": [
    "NP = min([10,len(run_for)])\n",
    "pool = mp.Pool(NP,maxtasksperchild=1)\n",
    "pbar = tqdm(total=len(run_for),position=0,leave=True)\n",
    "pbar.set_description('Building ({} threads)'.format(NP))\n",
    "def collect_result(result):\n",
    "    pbar.update(1)\n",
    "    \n",
    "for org in run_for:\n",
    "    args = ([org])\n",
    "    pool.apply_async(run,args, callback=collect_result)\n",
    "pool.close()\n",
    "pool.join()"
   ]
  }
 ],
 "metadata": {
  "kernelspec": {
   "display_name": "coralme",
   "language": "python",
   "name": "coralme"
  },
  "language_info": {
   "codemirror_mode": {
    "name": "ipython",
    "version": 3
   },
   "file_extension": ".py",
   "mimetype": "text/x-python",
   "name": "python",
   "nbconvert_exporter": "python",
   "pygments_lexer": "ipython3",
   "version": "3.10.12"
  }
 },
 "nbformat": 4,
 "nbformat_minor": 4
}
