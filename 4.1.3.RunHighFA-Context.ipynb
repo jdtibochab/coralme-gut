{
 "cells": [
  {
   "cell_type": "code",
   "execution_count": null,
   "metadata": {
    "ExecuteTime": {
     "end_time": "2023-01-23T02:32:11.189506Z",
     "start_time": "2023-01-23T02:32:10.314605Z"
    }
   },
   "outputs": [],
   "source": [
    "import glob\n",
    "import numpy\n",
    "import pandas\n",
    "import seaborn\n",
    "import matplotlib.pyplot as plt\n",
    "from tqdm import tqdm\n",
    "import multiprocessing as mp\n",
    "import os\n",
    "from build import build_model\n",
    "from knockouts import *"
   ]
  },
  {
   "cell_type": "code",
   "execution_count": null,
   "metadata": {
    "ExecuteTime": {
     "end_time": "2023-01-23T02:32:11.205572Z",
     "start_time": "2023-01-23T02:32:11.190971Z"
    }
   },
   "outputs": [],
   "source": [
    "from IPython.display import display, HTML, Math, Markdown\n",
    "display(HTML(\"<style>.container { width:95% !important; }</style>\"))\n",
    "\n",
    "%load_ext autoreload\n",
    "%autoreload 2"
   ]
  },
  {
   "cell_type": "code",
   "execution_count": null,
   "metadata": {},
   "outputs": [],
   "source": [
    "log_format = '%(asctime)s %(message)s' #%(clientip)-15s %(user)-8s\n",
    "import logging\n",
    "from coralme.builder.main import ListHandler\n",
    "log = logging.getLogger()\n",
    "logging.basicConfig(filename = \"./ibdmdb/tmp.log\", filemode = 'w', level = logging.WARNING, format = log_format)\n",
    "logging.captureWarnings(True)"
   ]
  },
  {
   "cell_type": "code",
   "execution_count": null,
   "metadata": {},
   "outputs": [],
   "source": [
    "exchanges = [\"EX_ac(e)\",\"EX_but(e)\",\"EX_ppa(e)\"]"
   ]
  },
  {
   "cell_type": "code",
   "execution_count": null,
   "metadata": {},
   "outputs": [],
   "source": [
    "from overflow import get_overflow\n",
    "def run_context_specific(model):\n",
    "    org = model.id\n",
    "    ListHandler.print_and_log(\"Running {}\".format(org))\n",
    "    index_dct = {r.id : model.reactions.index(r) for r in model.reactions}\n",
    "    met_index_dct = {m.id : model.metabolites.index(m) for m in model.metabolites}\n",
    "    me_nlp = get_nlp(model)\n",
    "    max_mu = model.solution.objective_value*2\n",
    "    del model\n",
    "    # Run for all conditions\n",
    "    killable = pandas.read_csv(\"./ibdmdb/integration/{}/{}_killable.txt\".format(\"IBD\",org),header=None,index_col=0).index.to_list()\n",
    "    for k in killable:\n",
    "        knockout(index_dct,k,me_nlp,limit=lambda x:0)\n",
    "    sol = optimize(index_dct,met_index_dct,me_nlp,max_mu=max_mu)\n",
    "    ListHandler.print_and_log(\"Solution for {} : {}\".format(org, sol))\n",
    "    return sol"
   ]
  },
  {
   "cell_type": "code",
   "execution_count": null,
   "metadata": {},
   "outputs": [],
   "source": [
    "from diets import load_model,constrain_exchanges,get_bounds\n",
    "from overflow import get_overflow\n",
    "import coralme\n",
    "\n",
    "conditions = [\"high\"]\n",
    "metabolite = \"FA\"\n",
    "\n",
    "for c in conditions:\n",
    "    name = \"{}_{}\".format(c,metabolite)\n",
    "    fluxdir = \"./cases/fluxes/{}-context\".format(name)\n",
    "    if not os.path.isdir(fluxdir):\n",
    "        os.makedirs(fluxdir)\n",
    "\n",
    "def run(org):\n",
    "    model = coralme.io.pickle.load_pickle_me_model(\"./me-models/{}/MEModel-BIO-{}-ME-TS.pkl\".format(org,org))\n",
    "    model.id = org\n",
    "    sol0 = model.solution\n",
    "    # Exchanges\n",
    "    rlist = [r for r in exchanges if r in model.reactions]\n",
    "    # Run for all conditions\n",
    "    for c in conditions:\n",
    "        name = \"{}_{}\".format(c,metabolite)\n",
    "        dct = {k:-2.0 for k in rlist if k in model.reactions}\n",
    "        constrain_exchanges(model,dct)\n",
    "        sol = run_context_specific(model)\n",
    "        sol.to_frame().to_csv(\"cases/fluxes/{}-context/{}.csv\".format(name,org))"
   ]
  },
  {
   "cell_type": "code",
   "execution_count": null,
   "metadata": {},
   "outputs": [],
   "source": [
    "# !bash report.sh\n",
    "organisms = set(pandas.read_csv(\"biomass_constrained.txt\",index_col=0,header=None).index.to_list())\n",
    "run_for = organisms\n",
    "len(run_for)"
   ]
  },
  {
   "cell_type": "code",
   "execution_count": null,
   "metadata": {
    "scrolled": true
   },
   "outputs": [],
   "source": [
    "NP = min([4,len(run_for)])\n",
    "pool = mp.Pool(NP,maxtasksperchild=1)\n",
    "pbar = tqdm(total=len(run_for),position=0,leave=True)\n",
    "pbar.set_description('Building ({} threads)'.format(NP))\n",
    "def collect_result(result):\n",
    "    pbar.update(1)\n",
    "\n",
    "for org in run_for:\n",
    "    args = ([org])\n",
    "    pool.apply_async(run,args, callback=collect_result)\n",
    "pool.close()\n",
    "pool.join()"
   ]
  }
 ],
 "metadata": {
  "kernelspec": {
   "display_name": "coralme",
   "language": "python",
   "name": "coralme"
  },
  "language_info": {
   "codemirror_mode": {
    "name": "ipython",
    "version": 3
   },
   "file_extension": ".py",
   "mimetype": "text/x-python",
   "name": "python",
   "nbconvert_exporter": "python",
   "pygments_lexer": "ipython3",
   "version": "3.10.12"
  }
 },
 "nbformat": 4,
 "nbformat_minor": 4
}
