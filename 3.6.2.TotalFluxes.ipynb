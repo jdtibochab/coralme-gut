{
 "cells": [
  {
   "cell_type": "code",
   "execution_count": null,
   "metadata": {
    "ExecuteTime": {
     "end_time": "2023-01-23T02:32:11.189506Z",
     "start_time": "2023-01-23T02:32:10.314605Z"
    }
   },
   "outputs": [],
   "source": [
    "import glob\n",
    "import numpy\n",
    "import pandas\n",
    "import seaborn\n",
    "import matplotlib.pyplot as plt\n",
    "import multiprocessing as mp\n",
    "import os\n",
    "from build import build_model\n",
    "import coralme\n",
    "from tqdm import tqdm"
   ]
  },
  {
   "cell_type": "code",
   "execution_count": null,
   "metadata": {
    "ExecuteTime": {
     "end_time": "2023-01-23T02:32:11.205572Z",
     "start_time": "2023-01-23T02:32:11.190971Z"
    }
   },
   "outputs": [],
   "source": [
    "from IPython.display import display, HTML, Math, Markdown\n",
    "display(HTML(\"<style>.container { width:95% !important; }</style>\"))\n",
    "\n",
    "%load_ext autoreload\n",
    "%autoreload 2"
   ]
  },
  {
   "cell_type": "markdown",
   "metadata": {},
   "source": [
    "### Load"
   ]
  },
  {
   "cell_type": "code",
   "execution_count": null,
   "metadata": {},
   "outputs": [],
   "source": [
    "def load_data(path):\n",
    "    try:\n",
    "        df = pandas.read_csv(path,index_col=0)[[\"fluxes\"]]\n",
    "    except:\n",
    "        df = pandas.DataFrame(columns=[\"fluxes\"])\n",
    "    df.columns = [org]\n",
    "    return df"
   ]
  },
  {
   "cell_type": "code",
   "execution_count": null,
   "metadata": {},
   "outputs": [],
   "source": [
    "dataset = \"\""
   ]
  },
  {
   "cell_type": "code",
   "execution_count": null,
   "metadata": {},
   "outputs": [],
   "source": [
    "conditions = [\"IBD\",\"nonIBD\"]\n",
    "organisms = set(pandas.read_csv(\"biomass_constrained.txt\",index_col=0,header=None).index.to_list())\n",
    "fluxes = {i:pandas.DataFrame() for i in conditions}\n",
    "for org in tqdm(organisms):\n",
    "    for c in conditions:\n",
    "        tmp = load_data(\"./cases/fluxes/{}{}/{}.csv\".format(c,dataset,org))\n",
    "        tmp = tmp.loc[[i for i in tmp.index if i.startswith(\"EX_\")]]\n",
    "        fluxes[c] = pandas.concat([fluxes[c],tmp], axis=1).fillna(0)"
   ]
  },
  {
   "cell_type": "code",
   "execution_count": null,
   "metadata": {},
   "outputs": [],
   "source": [
    "predictions = {\n",
    "    \"fluxes\" : fluxes,\n",
    "    \"growth\" : pandas.read_csv(\"./datasets/3.5.IBD{}_growth_rates.csv\".format(dataset),index_col=0)\n",
    "}"
   ]
  },
  {
   "cell_type": "code",
   "execution_count": null,
   "metadata": {},
   "outputs": [],
   "source": [
    "RelativeAbundances = pandas.read_csv(\"./ibdmdb/Referenced_metaG_per_diagnosis.csv\",index_col=0)"
   ]
  },
  {
   "cell_type": "code",
   "execution_count": null,
   "metadata": {},
   "outputs": [],
   "source": [
    "FluxesByOrganism = {}\n",
    "for c in predictions[\"growth\"].columns:\n",
    "    tmp = predictions[\"fluxes\"][c].multiply(RelativeAbundances[c],axis=1)\n",
    "    FluxesByOrganism[c] = tmp[tmp.any(axis=1)]"
   ]
  },
  {
   "cell_type": "code",
   "execution_count": null,
   "metadata": {},
   "outputs": [],
   "source": [
    "for k,v in FluxesByOrganism.items():\n",
    "    v.to_csv(\"./datasets/3.6.TotalFluxes_{}{}.csv\".format(k,dataset))"
   ]
  }
 ],
 "metadata": {
  "kernelspec": {
   "display_name": "coralme",
   "language": "python",
   "name": "coralme"
  },
  "language_info": {
   "codemirror_mode": {
    "name": "ipython",
    "version": 3
   },
   "file_extension": ".py",
   "mimetype": "text/x-python",
   "name": "python",
   "nbconvert_exporter": "python",
   "pygments_lexer": "ipython3",
   "version": "3.10.12"
  }
 },
 "nbformat": 4,
 "nbformat_minor": 4
}
