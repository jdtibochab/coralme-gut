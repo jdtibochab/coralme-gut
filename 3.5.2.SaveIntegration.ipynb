{
 "cells": [
  {
   "cell_type": "code",
   "execution_count": 12,
   "metadata": {
    "ExecuteTime": {
     "end_time": "2023-01-23T02:32:11.189506Z",
     "start_time": "2023-01-23T02:32:10.314605Z"
    }
   },
   "outputs": [],
   "source": [
    "import glob\n",
    "import numpy\n",
    "import pandas\n",
    "import seaborn\n",
    "import matplotlib.pyplot as plt\n",
    "from tqdm import tqdm\n",
    "import multiprocessing as mp\n",
    "import os\n",
    "from build import build_model\n",
    "import coralme"
   ]
  },
  {
   "cell_type": "code",
   "execution_count": 13,
   "metadata": {
    "ExecuteTime": {
     "end_time": "2023-01-23T02:32:11.205572Z",
     "start_time": "2023-01-23T02:32:11.190971Z"
    }
   },
   "outputs": [
    {
     "data": {
      "text/html": [
       "<style>.container { width:95% !important; }</style>"
      ],
      "text/plain": [
       "<IPython.core.display.HTML object>"
      ]
     },
     "metadata": {},
     "output_type": "display_data"
    },
    {
     "name": "stdout",
     "output_type": "stream",
     "text": [
      "The autoreload extension is already loaded. To reload it, use:\n",
      "  %reload_ext autoreload\n"
     ]
    }
   ],
   "source": [
    "from IPython.display import display, HTML, Math, Markdown\n",
    "display(HTML(\"<style>.container { width:95% !important; }</style>\"))\n",
    "\n",
    "%load_ext autoreload\n",
    "%autoreload 2"
   ]
  },
  {
   "cell_type": "code",
   "execution_count": 14,
   "metadata": {
    "scrolled": true
   },
   "outputs": [],
   "source": [
    "# !bash report.sh\n",
    "organisms = set(pandas.read_csv(\"biomass_constrained.txt\",index_col=0,header=None).index.to_list())\n",
    "done = set(i.split(\".csv\")[0] for i in os.listdir(\"./cases/fluxes/nonIBD/\") if \"csv\" in i)"
   ]
  },
  {
   "cell_type": "code",
   "execution_count": 15,
   "metadata": {},
   "outputs": [
    {
     "data": {
      "text/plain": [
       "495"
      ]
     },
     "execution_count": 15,
     "metadata": {},
     "output_type": "execute_result"
    }
   ],
   "source": [
    "len(organisms)"
   ]
  },
  {
   "cell_type": "markdown",
   "metadata": {},
   "source": [
    "### Load"
   ]
  },
  {
   "cell_type": "code",
   "execution_count": 16,
   "metadata": {},
   "outputs": [],
   "source": [
    "def load_data(path):\n",
    "    try:\n",
    "        df = pandas.read_csv(path,index_col=0)[[\"fluxes\"]]\n",
    "    except:\n",
    "        df = pandas.DataFrame(columns=[\"fluxes\"])\n",
    "    df.columns = [org]\n",
    "    return df"
   ]
  },
  {
   "cell_type": "code",
   "execution_count": 17,
   "metadata": {},
   "outputs": [],
   "source": [
    "from tqdm import tqdm\n",
    "conditions = [\"nonIBD\", \"IBD\"]"
   ]
  },
  {
   "cell_type": "code",
   "execution_count": 18,
   "metadata": {},
   "outputs": [],
   "source": [
    "overflow = {i:pandas.DataFrame() for i in conditions}\n",
    "growth = {i:{} for i in conditions}"
   ]
  },
  {
   "cell_type": "code",
   "execution_count": 19,
   "metadata": {},
   "outputs": [
    {
     "name": "stderr",
     "output_type": "stream",
     "text": [
      "100%|██████████| 495/495 [00:01<00:00, 284.81it/s]\n"
     ]
    }
   ],
   "source": [
    "for org in tqdm(organisms):\n",
    "    for c in conditions:\n",
    "        tmp = load_data(\"./cases/overflow/{}/{}.csv\".format(c,org))\n",
    "        overflow[c] = pandas.concat([overflow[c],tmp], axis=1).fillna(0)"
   ]
  },
  {
   "cell_type": "code",
   "execution_count": 20,
   "metadata": {},
   "outputs": [
    {
     "name": "stderr",
     "output_type": "stream",
     "text": [
      "100%|██████████| 495/495 [00:30<00:00, 16.09it/s]\n"
     ]
    }
   ],
   "source": [
    "for org in tqdm(organisms):\n",
    "    for c in conditions:\n",
    "        tmp = load_data(\"./cases/fluxes/{}/{}.csv\".format(c,org))\n",
    "        if tmp.empty:\n",
    "            val = None\n",
    "        else:\n",
    "            val = tmp[org][\"biomass_dilution\"]\n",
    "        growth[c][org] = val\n",
    "growth = pandas.DataFrame.from_dict(growth)"
   ]
  },
  {
   "cell_type": "code",
   "execution_count": 21,
   "metadata": {},
   "outputs": [
    {
     "data": {
      "text/html": [
       "<div>\n",
       "<style scoped>\n",
       "    .dataframe tbody tr th:only-of-type {\n",
       "        vertical-align: middle;\n",
       "    }\n",
       "\n",
       "    .dataframe tbody tr th {\n",
       "        vertical-align: top;\n",
       "    }\n",
       "\n",
       "    .dataframe thead th {\n",
       "        text-align: right;\n",
       "    }\n",
       "</style>\n",
       "<table border=\"1\" class=\"dataframe\">\n",
       "  <thead>\n",
       "    <tr style=\"text-align: right;\">\n",
       "      <th></th>\n",
       "      <th>nonIBD</th>\n",
       "      <th>IBD</th>\n",
       "    </tr>\n",
       "  </thead>\n",
       "  <tbody>\n",
       "    <tr>\n",
       "      <th>Dialister_succinatiphilus_YIT_11850</th>\n",
       "      <td>0.000984</td>\n",
       "      <td>0.001566</td>\n",
       "    </tr>\n",
       "    <tr>\n",
       "      <th>Lactobacillus_coleohominis_101_4_CHN</th>\n",
       "      <td>0.017685</td>\n",
       "      <td>0.028927</td>\n",
       "    </tr>\n",
       "    <tr>\n",
       "      <th>Haemophilus_parainfluenzae_T3T1</th>\n",
       "      <td>0.148266</td>\n",
       "      <td>0.316874</td>\n",
       "    </tr>\n",
       "    <tr>\n",
       "      <th>Bacteroides_thetaiotaomicron_VPI_5482</th>\n",
       "      <td>0.132143</td>\n",
       "      <td>0.205156</td>\n",
       "    </tr>\n",
       "    <tr>\n",
       "      <th>Enterococcus_faecalis_TX1322</th>\n",
       "      <td>0.001426</td>\n",
       "      <td>0.000438</td>\n",
       "    </tr>\n",
       "    <tr>\n",
       "      <th>...</th>\n",
       "      <td>...</td>\n",
       "      <td>...</td>\n",
       "    </tr>\n",
       "    <tr>\n",
       "      <th>Clostridium_sticklandii_DSM_519</th>\n",
       "      <td>0.002309</td>\n",
       "      <td>0.000878</td>\n",
       "    </tr>\n",
       "    <tr>\n",
       "      <th>Staphylococcus_pettenkoferi_VCU012</th>\n",
       "      <td>0.002585</td>\n",
       "      <td>0.001740</td>\n",
       "    </tr>\n",
       "    <tr>\n",
       "      <th>Bacteroides_sp_2_1_7</th>\n",
       "      <td>0.093961</td>\n",
       "      <td>0.073051</td>\n",
       "    </tr>\n",
       "    <tr>\n",
       "      <th>Actinobacillus_pleuropneumoniae_L20</th>\n",
       "      <td>0.001815</td>\n",
       "      <td>0.001720</td>\n",
       "    </tr>\n",
       "    <tr>\n",
       "      <th>Campylobacter_rectus_RM3267</th>\n",
       "      <td>0.001261</td>\n",
       "      <td>0.001675</td>\n",
       "    </tr>\n",
       "  </tbody>\n",
       "</table>\n",
       "<p>490 rows × 2 columns</p>\n",
       "</div>"
      ],
      "text/plain": [
       "                                         nonIBD       IBD\n",
       "Dialister_succinatiphilus_YIT_11850    0.000984  0.001566\n",
       "Lactobacillus_coleohominis_101_4_CHN   0.017685  0.028927\n",
       "Haemophilus_parainfluenzae_T3T1        0.148266  0.316874\n",
       "Bacteroides_thetaiotaomicron_VPI_5482  0.132143  0.205156\n",
       "Enterococcus_faecalis_TX1322           0.001426  0.000438\n",
       "...                                         ...       ...\n",
       "Clostridium_sticklandii_DSM_519        0.002309  0.000878\n",
       "Staphylococcus_pettenkoferi_VCU012     0.002585  0.001740\n",
       "Bacteroides_sp_2_1_7                   0.093961  0.073051\n",
       "Actinobacillus_pleuropneumoniae_L20    0.001815  0.001720\n",
       "Campylobacter_rectus_RM3267            0.001261  0.001675\n",
       "\n",
       "[490 rows x 2 columns]"
      ]
     },
     "execution_count": 21,
     "metadata": {},
     "output_type": "execute_result"
    }
   ],
   "source": [
    "growth.dropna()"
   ]
  },
  {
   "cell_type": "markdown",
   "metadata": {},
   "source": [
    "### Save"
   ]
  },
  {
   "cell_type": "code",
   "execution_count": 22,
   "metadata": {},
   "outputs": [],
   "source": [
    "growth.sort_index().to_csv(\"datasets/3.5.IBD_growth_rates.csv\")"
   ]
  },
  {
   "cell_type": "code",
   "execution_count": 23,
   "metadata": {},
   "outputs": [],
   "source": [
    "for c,df in overflow.items():\n",
    "    df.to_csv(\"datasets/3.5.{}_overflow.csv\".format(c))"
   ]
  },
  {
   "cell_type": "code",
   "execution_count": 25,
   "metadata": {},
   "outputs": [
    {
     "data": {
      "text/html": [
       "<div>\n",
       "<style scoped>\n",
       "    .dataframe tbody tr th:only-of-type {\n",
       "        vertical-align: middle;\n",
       "    }\n",
       "\n",
       "    .dataframe tbody tr th {\n",
       "        vertical-align: top;\n",
       "    }\n",
       "\n",
       "    .dataframe thead th {\n",
       "        text-align: right;\n",
       "    }\n",
       "</style>\n",
       "<table border=\"1\" class=\"dataframe\">\n",
       "  <thead>\n",
       "    <tr style=\"text-align: right;\">\n",
       "      <th></th>\n",
       "      <th>nonIBD</th>\n",
       "      <th>IBD</th>\n",
       "    </tr>\n",
       "  </thead>\n",
       "  <tbody>\n",
       "    <tr>\n",
       "      <th>Abiotrophia_defectiva_ATCC_49176</th>\n",
       "      <td>0.001993</td>\n",
       "      <td>0.001793</td>\n",
       "    </tr>\n",
       "    <tr>\n",
       "      <th>Acidaminococcus_fermentans_DSM_20731</th>\n",
       "      <td>0.001525</td>\n",
       "      <td>0.001096</td>\n",
       "    </tr>\n",
       "    <tr>\n",
       "      <th>Acidaminococcus_intestini_RyC_MR95</th>\n",
       "      <td>0.001026</td>\n",
       "      <td>0.002054</td>\n",
       "    </tr>\n",
       "    <tr>\n",
       "      <th>Acidaminococcus_sp_D21</th>\n",
       "      <td>0.002297</td>\n",
       "      <td>0.043386</td>\n",
       "    </tr>\n",
       "    <tr>\n",
       "      <th>Acinetobacter_calcoaceticus_PHEA_2</th>\n",
       "      <td>0.001129</td>\n",
       "      <td>0.001091</td>\n",
       "    </tr>\n",
       "    <tr>\n",
       "      <th>...</th>\n",
       "      <td>...</td>\n",
       "      <td>...</td>\n",
       "    </tr>\n",
       "    <tr>\n",
       "      <th>Yersinia_enterocolitica_subsp_enterocolitica_8081</th>\n",
       "      <td>0.002792</td>\n",
       "      <td>0.366087</td>\n",
       "    </tr>\n",
       "    <tr>\n",
       "      <th>Yersinia_frederiksenii_ATCC_33641</th>\n",
       "      <td>0.004153</td>\n",
       "      <td>0.003894</td>\n",
       "    </tr>\n",
       "    <tr>\n",
       "      <th>Yersinia_kristensenii_ATCC_33638</th>\n",
       "      <td>0.000870</td>\n",
       "      <td>0.032794</td>\n",
       "    </tr>\n",
       "    <tr>\n",
       "      <th>Yersinia_pseudotuberculosis_YPIII</th>\n",
       "      <td>0.007851</td>\n",
       "      <td>0.001181</td>\n",
       "    </tr>\n",
       "    <tr>\n",
       "      <th>Yersinia_rohdei_ATCC_43380</th>\n",
       "      <td>0.000848</td>\n",
       "      <td>0.006149</td>\n",
       "    </tr>\n",
       "  </tbody>\n",
       "</table>\n",
       "<p>495 rows × 2 columns</p>\n",
       "</div>"
      ],
      "text/plain": [
       "                                                     nonIBD       IBD\n",
       "Abiotrophia_defectiva_ATCC_49176                   0.001993  0.001793\n",
       "Acidaminococcus_fermentans_DSM_20731               0.001525  0.001096\n",
       "Acidaminococcus_intestini_RyC_MR95                 0.001026  0.002054\n",
       "Acidaminococcus_sp_D21                             0.002297  0.043386\n",
       "Acinetobacter_calcoaceticus_PHEA_2                 0.001129  0.001091\n",
       "...                                                     ...       ...\n",
       "Yersinia_enterocolitica_subsp_enterocolitica_8081  0.002792  0.366087\n",
       "Yersinia_frederiksenii_ATCC_33641                  0.004153  0.003894\n",
       "Yersinia_kristensenii_ATCC_33638                   0.000870  0.032794\n",
       "Yersinia_pseudotuberculosis_YPIII                  0.007851  0.001181\n",
       "Yersinia_rohdei_ATCC_43380                         0.000848  0.006149\n",
       "\n",
       "[495 rows x 2 columns]"
      ]
     },
     "execution_count": 25,
     "metadata": {},
     "output_type": "execute_result"
    }
   ],
   "source": [
    "growth = pandas.read_csv(\"datasets/3.5.IBD_growth_rates.csv\",index_col=0)\n",
    "growth"
   ]
  },
  {
   "cell_type": "code",
   "execution_count": 7,
   "metadata": {},
   "outputs": [
    {
     "data": {
      "text/html": [
       "<div>\n",
       "<style scoped>\n",
       "    .dataframe tbody tr th:only-of-type {\n",
       "        vertical-align: middle;\n",
       "    }\n",
       "\n",
       "    .dataframe tbody tr th {\n",
       "        vertical-align: top;\n",
       "    }\n",
       "\n",
       "    .dataframe thead th {\n",
       "        text-align: right;\n",
       "    }\n",
       "</style>\n",
       "<table border=\"1\" class=\"dataframe\">\n",
       "  <thead>\n",
       "    <tr style=\"text-align: right;\">\n",
       "      <th></th>\n",
       "      <th>nonIBD</th>\n",
       "      <th>IBD</th>\n",
       "    </tr>\n",
       "  </thead>\n",
       "  <tbody>\n",
       "    <tr>\n",
       "      <th>Abiotrophia_defectiva_ATCC_49176</th>\n",
       "      <td>0.001993</td>\n",
       "      <td>NaN</td>\n",
       "    </tr>\n",
       "    <tr>\n",
       "      <th>Acidaminococcus_fermentans_DSM_20731</th>\n",
       "      <td>0.001525</td>\n",
       "      <td>0.001937</td>\n",
       "    </tr>\n",
       "    <tr>\n",
       "      <th>Acidaminococcus_intestini_RyC_MR95</th>\n",
       "      <td>0.001026</td>\n",
       "      <td>0.002054</td>\n",
       "    </tr>\n",
       "    <tr>\n",
       "      <th>Acidaminococcus_sp_D21</th>\n",
       "      <td>0.002297</td>\n",
       "      <td>0.055847</td>\n",
       "    </tr>\n",
       "    <tr>\n",
       "      <th>Acinetobacter_calcoaceticus_PHEA_2</th>\n",
       "      <td>0.001129</td>\n",
       "      <td>0.000918</td>\n",
       "    </tr>\n",
       "    <tr>\n",
       "      <th>...</th>\n",
       "      <td>...</td>\n",
       "      <td>...</td>\n",
       "    </tr>\n",
       "    <tr>\n",
       "      <th>Yersinia_enterocolitica_subsp_enterocolitica_8081</th>\n",
       "      <td>0.002792</td>\n",
       "      <td>0.001391</td>\n",
       "    </tr>\n",
       "    <tr>\n",
       "      <th>Yersinia_frederiksenii_ATCC_33641</th>\n",
       "      <td>0.004153</td>\n",
       "      <td>0.003634</td>\n",
       "    </tr>\n",
       "    <tr>\n",
       "      <th>Yersinia_kristensenii_ATCC_33638</th>\n",
       "      <td>0.000870</td>\n",
       "      <td>0.001085</td>\n",
       "    </tr>\n",
       "    <tr>\n",
       "      <th>Yersinia_pseudotuberculosis_YPIII</th>\n",
       "      <td>0.007851</td>\n",
       "      <td>0.001409</td>\n",
       "    </tr>\n",
       "    <tr>\n",
       "      <th>Yersinia_rohdei_ATCC_43380</th>\n",
       "      <td>0.000848</td>\n",
       "      <td>0.002542</td>\n",
       "    </tr>\n",
       "  </tbody>\n",
       "</table>\n",
       "<p>495 rows × 2 columns</p>\n",
       "</div>"
      ],
      "text/plain": [
       "                                                     nonIBD       IBD\n",
       "Abiotrophia_defectiva_ATCC_49176                   0.001993       NaN\n",
       "Acidaminococcus_fermentans_DSM_20731               0.001525  0.001937\n",
       "Acidaminococcus_intestini_RyC_MR95                 0.001026  0.002054\n",
       "Acidaminococcus_sp_D21                             0.002297  0.055847\n",
       "Acinetobacter_calcoaceticus_PHEA_2                 0.001129  0.000918\n",
       "...                                                     ...       ...\n",
       "Yersinia_enterocolitica_subsp_enterocolitica_8081  0.002792  0.001391\n",
       "Yersinia_frederiksenii_ATCC_33641                  0.004153  0.003634\n",
       "Yersinia_kristensenii_ATCC_33638                   0.000870  0.001085\n",
       "Yersinia_pseudotuberculosis_YPIII                  0.007851  0.001409\n",
       "Yersinia_rohdei_ATCC_43380                         0.000848  0.002542\n",
       "\n",
       "[495 rows x 2 columns]"
      ]
     },
     "execution_count": 7,
     "metadata": {},
     "output_type": "execute_result"
    }
   ],
   "source": [
    "growth = pandas.read_csv(\"datasets/3.5.IBD_growth_rates.csv\",index_col=0)"
   ]
  }
 ],
 "metadata": {
  "kernelspec": {
   "display_name": "coralme",
   "language": "python",
   "name": "coralme"
  },
  "language_info": {
   "codemirror_mode": {
    "name": "ipython",
    "version": 3
   },
   "file_extension": ".py",
   "mimetype": "text/x-python",
   "name": "python",
   "nbconvert_exporter": "python",
   "pygments_lexer": "ipython3",
   "version": "3.10.12"
  }
 },
 "nbformat": 4,
 "nbformat_minor": 4
}
