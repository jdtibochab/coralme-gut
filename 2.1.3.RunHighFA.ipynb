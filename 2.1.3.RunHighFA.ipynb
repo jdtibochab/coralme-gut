{
 "cells": [
  {
   "cell_type": "code",
   "execution_count": 1,
   "metadata": {
    "ExecuteTime": {
     "end_time": "2023-01-23T02:32:11.189506Z",
     "start_time": "2023-01-23T02:32:10.314605Z"
    }
   },
   "outputs": [],
   "source": [
    "import glob\n",
    "import numpy\n",
    "import pandas\n",
    "import seaborn\n",
    "import matplotlib.pyplot as plt\n",
    "from tqdm import tqdm\n",
    "import multiprocessing as mp\n",
    "import os\n",
    "from build import build_model"
   ]
  },
  {
   "cell_type": "code",
   "execution_count": 2,
   "metadata": {
    "ExecuteTime": {
     "end_time": "2023-01-23T02:32:11.205572Z",
     "start_time": "2023-01-23T02:32:11.190971Z"
    }
   },
   "outputs": [
    {
     "data": {
      "text/html": [
       "<style>.container { width:95% !important; }</style>"
      ],
      "text/plain": [
       "<IPython.core.display.HTML object>"
      ]
     },
     "metadata": {},
     "output_type": "display_data"
    }
   ],
   "source": [
    "from IPython.display import display, HTML, Math, Markdown\n",
    "display(HTML(\"<style>.container { width:95% !important; }</style>\"))\n",
    "\n",
    "%load_ext autoreload\n",
    "%autoreload 2"
   ]
  },
  {
   "cell_type": "code",
   "execution_count": 3,
   "metadata": {
    "scrolled": true
   },
   "outputs": [],
   "source": [
    "# !bash report.sh\n",
    "organisms = set(pandas.read_csv(\"biomass_constrained.txt\",index_col=0,header=None).index.to_list())\n",
    "done = {i.split(\".csv\")[0] for i in os.listdir(\"./cases/overflow/high_FA/\")}\n",
    "zinc_in_polymerase = set(pandas.read_csv(\"zinc_in_polymerase.txt\",index_col=0,header=None).index.to_list())"
   ]
  },
  {
   "cell_type": "code",
   "execution_count": 4,
   "metadata": {},
   "outputs": [
    {
     "data": {
      "text/plain": [
       "495"
      ]
     },
     "execution_count": 4,
     "metadata": {},
     "output_type": "execute_result"
    }
   ],
   "source": [
    "run_for = organisms\n",
    "len(run_for)"
   ]
  },
  {
   "cell_type": "code",
   "execution_count": 7,
   "metadata": {},
   "outputs": [],
   "source": [
    "exchanges = [\"EX_ac(e)\",\"EX_but(e)\",\"EX_ppa(e)\"]"
   ]
  },
  {
   "cell_type": "code",
   "execution_count": 20,
   "metadata": {},
   "outputs": [],
   "source": [
    "from diets import load_model,constrain_exchanges,get_bounds\n",
    "from overflow import get_overflow\n",
    "import coralme\n",
    "\n",
    "conditions = [\"high\"]\n",
    "metabolite = \"FA\"\n",
    "\n",
    "for c in conditions:\n",
    "    name = \"{}_{}\".format(c,metabolite)\n",
    "    fluxdir = \"./cases/fluxes/{}\".format(name)\n",
    "    overflowdir = \"./cases/overflow/{}\".format(name)\n",
    "    if not os.path.isdir(fluxdir):\n",
    "        os.makedirs(fluxdir)\n",
    "        os.makedirs(overflowdir)\n",
    "\n",
    "def run(org):\n",
    "    model = coralme.io.pickle.load_pickle_me_model(\"./me-models/{}/MEModel-BIO-{}-ME-TS.pkl\".format(org,org))\n",
    "    return model\n",
    "    sol0 = model.solution\n",
    "    df0 = sol0.to_frame()\n",
    "    # Exchanges\n",
    "    rlist = exchanges\n",
    "    # Run for all conditions\n",
    "    for condition in conditions:\n",
    "        name = \"{}_{}\".format(condition,metabolite)\n",
    "        dct = {k:-2.0 for k in rlist if k in model.reactions}\n",
    "        constrain_exchanges(model,dct)\n",
    "        model.optimize()\n",
    "        model.solution.to_frame().to_csv(\"cases/fluxes/{}/{}.csv\".format(name,org))\n",
    "        get_overflow(model).to_csv(\"./cases/overflow/{}/{}.csv\".format(name,org))"
   ]
  },
  {
   "cell_type": "code",
   "execution_count": null,
   "metadata": {
    "scrolled": true
   },
   "outputs": [
    {
     "name": "stderr",
     "output_type": "stream",
     "text": [
      "Building (2 threads):   0%|                               | 0/2 [00:00<?, ?it/s]"
     ]
    },
    {
     "name": "stdout",
     "output_type": "stream",
     "text": [
      "Set parameter Username\n",
      "Academic license - for non-commercial use only - expires 2024-08-16\n",
      "Read LP format model from file /tmp/tmpl0o531wt.lp\n",
      "Reading time = 0.00 seconds\n",
      ": 0 rows, 0 columns, 0 nonzeros\n",
      "Read LP format model from file /tmp/tmp3gwjt_5d.lp\n",
      "Reading time = 0.00 seconds\n",
      ": 832 rows, 1788 columns, 7876 nonzeros\n",
      "Read LP format model from file /tmp/tmpr0uy6cf7.lp\n",
      "Reading time = 0.00 seconds\n",
      ": 854 rows, 1786 columns, 7706 nonzeros\n",
      "Set parameter Username\n",
      "Academic license - for non-commercial use only - expires 2024-08-16\n",
      "Read LP format model from file /tmp/tmpde7k91in.lp\n",
      "Reading time = 0.00 seconds\n",
      ": 0 rows, 0 columns, 0 nonzeros\n",
      "Iteration\t Solution to check\tSolver Status\n",
      "---------\t------------------\t-------------\n",
      "Read LP format model from file /tmp/tmp232qcy36.lp\n",
      "Reading time = 0.00 seconds\n",
      ": 1301 rows, 3132 columns, 13778 nonzeros\n",
      "        1\t1.4050280687025918\tNot feasible\n",
      "Read LP format model from file /tmp/tmpntqwavw1.lp\n",
      "Reading time = 0.00 seconds\n",
      ": 1316 rows, 3130 columns, 13608 nonzeros\n",
      "        2\t0.7025140343512959\tNot feasible\n",
      "        3\t0.3512570171756479\tNot feasible\n",
      "Iteration\t Solution to check\tSolver Status\n",
      "---------\t------------------\t-------------\n",
      "        4\t0.1756285085878240\tNot feasible\n",
      "        5\t0.0878142542939120\tNot feasible\n",
      "        6\t0.0439071271469560\tNot feasible\n",
      "        7\t0.0219535635734780\tNot feasible\n",
      "        8\t0.0109767817867390\tNot feasible\n",
      "        9\t0.0054883908933695\tNot feasible\n",
      "        1\t1.4050280687025918\tNot feasible\n",
      "       10\t0.0027441954466847\tOptimal\n",
      "       11\t0.0041162931700271\tOptimal\n",
      "       12\t0.0048023420316983\tNot feasible\n",
      "       13\t0.0044593176008627\tOptimal\n",
      "       14\t0.0046308298162805\tNot feasible\n",
      "       15\t0.0045450737085716\tNot feasible\n",
      "       16\t0.0045021956547172\tNot feasible\n",
      "       17\t0.0044807566277899\tNot feasible\n",
      "       18\t0.0044700371143263\tNot feasible\n",
      "       19\t0.0044646773575945\tNot feasible\n",
      "       20\t0.0044619974792286\tNot feasible\n",
      "       21\t0.0044606575400457\tNot feasible\n",
      "       22\t0.0044599875704542\tNot feasible\n"
     ]
    },
    {
     "name": "stderr",
     "output_type": "stream",
     "text": [
      "Building (2 threads):  50%|███████████           | 1/2 [01:56<01:56, 116.73s/it]"
     ]
    },
    {
     "name": "stdout",
     "output_type": "stream",
     "text": [
      "        2\t0.7025140343512959\tNot feasible\n",
      "        3\t0.3512570171756479\tNot feasible\n",
      "        4\t0.1756285085878240\tNot feasible\n",
      "        5\t0.0878142542939120\tNot feasible\n",
      "        6\t0.0439071271469560\tNot feasible\n",
      "        7\t0.0219535635734780\tNot feasible\n",
      "        8\t0.0109767817867390\tNot feasible\n",
      "        9\t0.0054883908933695\tNot feasible\n",
      "       10\t0.0027441954466847\tNot feasible\n",
      "       11\t0.0013720977233424\tOptimal\n",
      "       12\t0.0020581465850136\tOptimal\n",
      "       13\t0.0024011710158492\tOptimal\n",
      "       14\t0.0025726832312670\tOptimal\n"
     ]
    }
   ],
   "source": [
    "NP = min([10,len(run_for)])\n",
    "pool = mp.Pool(NP,maxtasksperchild=1)\n",
    "pbar = tqdm(total=len(run_for),position=0,leave=True)\n",
    "pbar.set_description('Building ({} threads)'.format(NP))\n",
    "def collect_result(result):\n",
    "    pbar.update(1)\n",
    "\n",
    "for org in run_for:\n",
    "    args = ([org])\n",
    "    pool.apply_async(run,args, callback=collect_result)\n",
    "pool.close()\n",
    "pool.join()"
   ]
  },
  {
   "cell_type": "code",
   "execution_count": null,
   "metadata": {},
   "outputs": [],
   "source": []
  }
 ],
 "metadata": {
  "kernelspec": {
   "display_name": "coralme",
   "language": "python",
   "name": "coralme"
  },
  "language_info": {
   "codemirror_mode": {
    "name": "ipython",
    "version": 3
   },
   "file_extension": ".py",
   "mimetype": "text/x-python",
   "name": "python",
   "nbconvert_exporter": "python",
   "pygments_lexer": "ipython3",
   "version": "3.10.12"
  }
 },
 "nbformat": 4,
 "nbformat_minor": 4
}
