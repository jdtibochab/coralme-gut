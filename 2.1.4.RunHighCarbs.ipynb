{
 "cells": [
  {
   "cell_type": "code",
   "execution_count": 1,
   "metadata": {
    "ExecuteTime": {
     "end_time": "2023-01-23T02:32:11.189506Z",
     "start_time": "2023-01-23T02:32:10.314605Z"
    }
   },
   "outputs": [],
   "source": [
    "import glob\n",
    "import numpy\n",
    "import pandas\n",
    "import seaborn\n",
    "import matplotlib.pyplot as plt\n",
    "from tqdm import tqdm\n",
    "import multiprocessing as mp\n",
    "import os\n",
    "from build import build_model"
   ]
  },
  {
   "cell_type": "code",
   "execution_count": 2,
   "metadata": {
    "ExecuteTime": {
     "end_time": "2023-01-23T02:32:11.205572Z",
     "start_time": "2023-01-23T02:32:11.190971Z"
    }
   },
   "outputs": [
    {
     "data": {
      "text/html": [
       "<style>.container { width:95% !important; }</style>"
      ],
      "text/plain": [
       "<IPython.core.display.HTML object>"
      ]
     },
     "metadata": {},
     "output_type": "display_data"
    }
   ],
   "source": [
    "from IPython.display import display, HTML, Math, Markdown\n",
    "display(HTML(\"<style>.container { width:95% !important; }</style>\"))\n",
    "\n",
    "%load_ext autoreload\n",
    "%autoreload 2"
   ]
  },
  {
   "cell_type": "code",
   "execution_count": 3,
   "metadata": {
    "scrolled": true
   },
   "outputs": [],
   "source": [
    "# !bash report.sh\n",
    "organisms = set(pandas.read_csv(\"biomass_constrained.txt\",index_col=0,header=None).index.to_list())\n",
    "done = {i.split(\".csv\")[0] for i in os.listdir(\"./cases/overflow/high_carbs/\")}\n",
    "zinc_in_polymerase = set(pandas.read_csv(\"zinc_in_polymerase.txt\",index_col=0,header=None).index.to_list())"
   ]
  },
  {
   "cell_type": "code",
   "execution_count": 4,
   "metadata": {},
   "outputs": [
    {
     "data": {
      "text/plain": [
       "495"
      ]
     },
     "execution_count": 4,
     "metadata": {},
     "output_type": "execute_result"
    }
   ],
   "source": [
    "run_for = organisms\n",
    "len(run_for)"
   ]
  },
  {
   "cell_type": "code",
   "execution_count": 1,
   "metadata": {},
   "outputs": [],
   "source": [
    "carbs = \"EX_fru(e),EX_glc(e),EX_glc_D(e),EX_gal(e),EX_man(e),EX_mnl(e),EX_fuc_L(e),EX_glcn(e),EX_rmn(e),EX_arab_L(e),EX_drib(e),EX_rib_D(e),EX_xyl_D(e),EX_oxa(e),EX_lcts(e),EX_malt(e),EX_sucr(e),EX_melib(e),EX_cellb(e),EX_tre(e),EX_strch1(e)\"\n",
    "exchanges = carbs.split(\",\")"
   ]
  },
  {
   "cell_type": "code",
   "execution_count": 11,
   "metadata": {},
   "outputs": [],
   "source": [
    "from diets import load_model,constrain_exchanges,get_bounds\n",
    "from overflow import get_overflow\n",
    "import coralme\n",
    "\n",
    "conditions = [\"high\"]\n",
    "metabolite = \"carbs\"\n",
    "\n",
    "for c in conditions:\n",
    "    name = \"{}_{}\".format(c,metabolite)\n",
    "    fluxdir = \"./cases/fluxes/{}\".format(name)\n",
    "    overflowdir = \"./cases/overflow/{}\".format(name)\n",
    "    if not os.path.isdir(fluxdir):\n",
    "        os.makedirs(fluxdir)\n",
    "        os.makedirs(overflowdir)\n",
    "\n",
    "def run(org):\n",
    "    model = coralme.io.pickle.load_pickle_me_model(\"./me-models/{}/MEModel-BIO-{}-ME-TS.pkl\".format(org,org))\n",
    "    sol0 = model.solution\n",
    "    df0 = sol0.to_frame()\n",
    "    # Exchanges\n",
    "    rlist = exchanges\n",
    "    # Run for all conditions\n",
    "    for condition in conditions:\n",
    "        name = \"{}_{}\".format(condition,metabolite)\n",
    "        dct = {k:-2 for k in rlist if k in model.reactions}\n",
    "        constrain_exchanges(model,dct)\n",
    "        model.optimize()\n",
    "        model.solution.to_frame().to_csv(\"cases/fluxes/{}/{}.csv\".format(name,org))\n",
    "        get_overflow(model).to_csv(\"./cases/overflow/{}/{}.csv\".format(name,org))\n",
    "        "
   ]
  },
  {
   "cell_type": "code",
   "execution_count": 15,
   "metadata": {},
   "outputs": [
    {
     "name": "stdout",
     "output_type": "stream",
     "text": [
      "Read LP format model from file /tmp/tmpw3gkdnn8.lp\n",
      "Reading time = 0.00 seconds\n",
      ": 0 rows, 0 columns, 0 nonzeros\n",
      "Read LP format model from file /tmp/tmpn9po4k2x.lp\n",
      "Reading time = 0.00 seconds\n",
      ": 901 rows, 1988 columns, 8424 nonzeros\n",
      "Read LP format model from file /tmp/tmp4ci359n7.lp\n",
      "Reading time = 0.00 seconds\n",
      ": 924 rows, 1986 columns, 8304 nonzeros\n",
      "Iteration\t Solution to check\tSolver Status\n",
      "---------\t------------------\t-------------\n",
      "        1\t0.0029160000000000\tOptimal\n",
      "        2\t0.0043740000000000\tNot feasible\n",
      "        3\t0.0036450000000000\tNot feasible\n",
      "        4\t0.0032805000000000\tNot feasible\n",
      "        5\t0.0030982500000000\tNot feasible\n",
      "        6\t0.0030071250000000\tNot feasible\n",
      "        7\t0.0029615625000000\tNot feasible\n",
      "        8\t0.0029387812500000\tNot feasible\n",
      "        9\t0.0029273906250000\tNot feasible\n",
      "       10\t0.0029216953125000\tNot feasible\n",
      "       11\t0.0029188476562500\tNot feasible\n",
      "       12\t0.0029174238281250\tNot feasible\n",
      "       13\t0.0029167119140625\tNot feasible\n"
     ]
    }
   ],
   "source": [
    "# org = \"Ruminococcus_torques_ATCC_27756\"\n",
    "# model = run(org)\n",
    "# model.optimize(max_mu = 0.002916*2)\n",
    "# model.solution.to_frame().to_csv(\"cases/fluxes/{}/{}.csv\".format(name,org))\n",
    "# get_overflow(model).to_csv(\"./cases/overflow/{}/{}.csv\".format(name,org))"
   ]
  },
  {
   "cell_type": "code",
   "execution_count": 7,
   "metadata": {
    "scrolled": true
   },
   "outputs": [
    {
     "name": "stderr",
     "output_type": "stream",
     "text": [
      "Building (1 threads):   0%|                               | 0/1 [00:00<?, ?it/s]"
     ]
    },
    {
     "name": "stdout",
     "output_type": "stream",
     "text": [
      "Set parameter Username\n",
      "Academic license - for non-commercial use only - expires 2024-08-16\n",
      "Read LP format model from file /tmp/tmpktlm5l8t.lp\n",
      "Reading time = 0.00 seconds\n",
      ": 0 rows, 0 columns, 0 nonzeros\n",
      "Read LP format model from file /tmp/tmp67rd2sqz.lp\n",
      "Reading time = 0.00 seconds\n",
      ": 1343 rows, 3202 columns, 13882 nonzeros\n",
      "Read LP format model from file /tmp/tmp12j4us20.lp\n",
      "Reading time = 0.00 seconds\n",
      ": 1355 rows, 3200 columns, 13712 nonzeros\n",
      "Iteration\t Solution to check\tSolver Status\n",
      "---------\t------------------\t-------------\n",
      "        1\t1.4050280687025918\tNot feasible\n",
      "        2\t0.7025140343512959\tNot feasible\n",
      "        3\t0.3512570171756479\tNot feasible\n",
      "        4\t0.1756285085878240\tNot feasible\n",
      "        5\t0.0878142542939120\tNot feasible\n",
      "        6\t0.0439071271469560\tNot feasible\n",
      "        7\t0.0219535635734780\tNot feasible\n",
      "        8\t0.0109767817867390\tNot feasible\n",
      "        9\t0.0054883908933695\tNot feasible\n",
      "       10\t0.0027441954466847\tNot feasible\n",
      "       11\t0.0013720977233424\tOptimal\n",
      "       12\t0.0020581465850136\tOptimal\n",
      "       13\t0.0024011710158492\tOptimal\n",
      "       14\t0.0025726832312670\tOptimal\n",
      "       15\t0.0026584393389759\tOptimal\n",
      "       16\t0.0027013173928303\tOptimal\n",
      "       17\t0.0027227564197575\tOptimal\n",
      "       18\t0.0027334759332211\tOptimal\n",
      "       19\t0.0027388356899529\tOptimal\n",
      "       20\t0.0027415155683188\tOptimal\n",
      "       21\t0.0027428555075018\tOptimal\n",
      "       22\t0.0027435254770933\tOptimal\n"
     ]
    },
    {
     "name": "stderr",
     "output_type": "stream",
     "text": [
      "Building (1 threads): 100%|██████████████████████| 1/1 [06:15<00:00, 375.47s/it]"
     ]
    }
   ],
   "source": [
    "NP = min([10,len(run_for)])\n",
    "pool = mp.Pool(NP,maxtasksperchild=1)\n",
    "pbar = tqdm(total=len(run_for),position=0,leave=True)\n",
    "pbar.set_description('Building ({} threads)'.format(NP))\n",
    "def collect_result(result):\n",
    "    pbar.update(1)\n",
    "\n",
    "for org in run_for:\n",
    "    args = ([org])\n",
    "    pool.apply_async(run,args, callback=collect_result)\n",
    "pool.close()\n",
    "pool.join()"
   ]
  }
 ],
 "metadata": {
  "kernelspec": {
   "display_name": "coralme",
   "language": "python",
   "name": "coralme"
  },
  "language_info": {
   "codemirror_mode": {
    "name": "ipython",
    "version": 3
   },
   "file_extension": ".py",
   "mimetype": "text/x-python",
   "name": "python",
   "nbconvert_exporter": "python",
   "pygments_lexer": "ipython3",
   "version": "3.10.12"
  }
 },
 "nbformat": 4,
 "nbformat_minor": 4
}
